{
 "cells": [
  {
   "cell_type": "code",
   "execution_count": 1,
   "id": "929a32dd-81d5-40b1-9231-5e715d229d36",
   "metadata": {},
   "outputs": [],
   "source": [
    "%load_ext autoreload"
   ]
  },
  {
   "cell_type": "code",
   "execution_count": 3,
   "id": "81030346-3d1f-46e9-acae-092e091697c3",
   "metadata": {},
   "outputs": [
    {
     "ename": "ModuleNotFoundError",
     "evalue": "No module named 'flaml'",
     "output_type": "error",
     "traceback": [
      "\u001b[1;31m---------------------------------------------------------------------------\u001b[0m",
      "\u001b[1;31mModuleNotFoundError\u001b[0m                       Traceback (most recent call last)",
      "\u001b[1;32m<ipython-input-3-5efed257b7e5>\u001b[0m in \u001b[0;36m<module>\u001b[1;34m\u001b[0m\n\u001b[0;32m      9\u001b[0m \u001b[1;32mfrom\u001b[0m \u001b[0mPreprocessor\u001b[0m \u001b[1;32mimport\u001b[0m \u001b[0mPreprocessor\u001b[0m\u001b[1;33m\u001b[0m\u001b[1;33m\u001b[0m\u001b[0m\n\u001b[0;32m     10\u001b[0m \u001b[1;32mfrom\u001b[0m \u001b[0mModel\u001b[0m \u001b[1;32mimport\u001b[0m \u001b[0mModel\u001b[0m\u001b[1;33m\u001b[0m\u001b[1;33m\u001b[0m\u001b[0m\n\u001b[1;32m---> 11\u001b[1;33m \u001b[1;32mfrom\u001b[0m \u001b[0mTestModel\u001b[0m \u001b[1;32mimport\u001b[0m \u001b[0mTestModel\u001b[0m\u001b[1;33m\u001b[0m\u001b[1;33m\u001b[0m\u001b[0m\n\u001b[0m\u001b[0;32m     12\u001b[0m \u001b[1;32mfrom\u001b[0m \u001b[0mflaml\u001b[0m \u001b[1;32mimport\u001b[0m \u001b[0mAutoML\u001b[0m\u001b[1;33m\u001b[0m\u001b[1;33m\u001b[0m\u001b[0m\n\u001b[0;32m     13\u001b[0m \u001b[1;33m\u001b[0m\u001b[0m\n",
      "\u001b[1;32m~\\Documents\\projects\\TDT4173_group69\\src\\TestModel.py\u001b[0m in \u001b[0;36m<module>\u001b[1;34m\u001b[0m\n\u001b[0;32m     20\u001b[0m \u001b[1;32mfrom\u001b[0m \u001b[0msklearn\u001b[0m\u001b[1;33m.\u001b[0m\u001b[0mmodel_selection\u001b[0m \u001b[1;32mimport\u001b[0m \u001b[0mRepeatedKFold\u001b[0m\u001b[1;33m\u001b[0m\u001b[1;33m\u001b[0m\u001b[0m\n\u001b[0;32m     21\u001b[0m \u001b[1;32mimport\u001b[0m \u001b[0mxgboost\u001b[0m\u001b[1;33m\u001b[0m\u001b[1;33m\u001b[0m\u001b[0m\n\u001b[1;32m---> 22\u001b[1;33m \u001b[1;32mfrom\u001b[0m \u001b[0mflaml\u001b[0m \u001b[1;32mimport\u001b[0m \u001b[0mAutoML\u001b[0m\u001b[1;33m\u001b[0m\u001b[1;33m\u001b[0m\u001b[0m\n\u001b[0m\u001b[0;32m     23\u001b[0m \u001b[1;33m\u001b[0m\u001b[0m\n\u001b[0;32m     24\u001b[0m \u001b[1;32mclass\u001b[0m \u001b[0mTestModel\u001b[0m\u001b[1;33m:\u001b[0m\u001b[1;33m\u001b[0m\u001b[1;33m\u001b[0m\u001b[0m\n",
      "\u001b[1;31mModuleNotFoundError\u001b[0m: No module named 'flaml'"
     ]
    }
   ],
   "source": [
    "%autoreload\n",
    " \n",
    "import numpy as np \n",
    "import pandas as pd \n",
    "import matplotlib.pyplot as plt \n",
    "import seaborn as sns \n",
    "from sklearn.model_selection import train_test_split\n",
    "from Visualizer import Visualizer\n",
    "from Preprocessor import Preprocessor\n",
    "from Model import Model\n",
    "from TestModel import TestModel\n",
    "from flaml import AutoML\n",
    "\n",
    "sns.set_style('darkgrid')\n",
    "pd.set_option(\"display.max_columns\", None)"
   ]
  },
  {
   "cell_type": "code",
   "execution_count": null,
   "id": "889371b7-d572-423e-8d37-5a068ef6d450",
   "metadata": {},
   "outputs": [],
   "source": [
    "preprocessor = Preprocessor()\n",
    "apartments = preprocessor.apartments\n"
   ]
  },
  {
   "cell_type": "code",
   "execution_count": null,
   "id": "f33a8f3f-203d-47a8-9a45-8b2ae334d430",
   "metadata": {},
   "outputs": [],
   "source": [
    "apartments_test = preprocessor.apartments_test\n",
    "buildings = preprocessor.buildings\n",
    "buildings_test = preprocessor.buildings_test\n",
    "merged = preprocessor.merged.copy()\n",
    "merged_test = preprocessor.merged_test.copy()\n",
    "labels = merged[\"price\"]\n",
    "merged_final = pd.concat([merged, merged_test], ignore_index=True)\n",
    "print(f\"The dataframe now has {len(merged_final)} entries\")"
   ]
  },
  {
   "cell_type": "code",
   "execution_count": null,
   "id": "837ceca6-9491-4e80-ba37-8f55b95b0d50",
   "metadata": {},
   "outputs": [],
   "source": [
    "visualizer = Visualizer()\n",
    "visualizer.list_missing(merged_final.copy())"
   ]
  },
  {
   "cell_type": "code",
   "execution_count": null,
   "id": "be88ee3f-7aa2-4845-b574-0b1f339771dd",
   "metadata": {},
   "outputs": [],
   "source": [
    "general_removed = preprocessor.general_removal(merged_final.copy())\n",
    "data = preprocessor.remove_NaNs(general_removed.copy())\n",
    "visualizer.list_missing(data)"
   ]
  },
  {
   "cell_type": "code",
   "execution_count": null,
   "id": "177ca91e-3bab-4de6-8ad9-e368d1d91671",
   "metadata": {},
   "outputs": [],
   "source": [
    "visualizer.price_correlation(data)"
   ]
  },
  {
   "cell_type": "code",
   "execution_count": null,
   "id": "fdbb90ad-8866-40ec-8cc9-79cf328cd987",
   "metadata": {},
   "outputs": [],
   "source": [
    "data = preprocessor.logify(data.copy(), \"price\")\n",
    "data = preprocessor.logify(data.copy(), \"area_total\")\n",
    "data = preprocessor.logify(data.copy(), \"area_living\")\n",
    "data = preprocessor.remove_zero_values(data.copy(), \"area_living\")\n",
    "data = preprocessor.logify(data.copy(), \"area_kitchen\")\n",
    "data.shape"
   ]
  },
  {
   "cell_type": "code",
   "execution_count": null,
   "id": "c45fc36f-ab21-4f79-ae7f-9fee0520570d",
   "metadata": {},
   "outputs": [],
   "source": [
    "is_outlier = (data[\"longitude\"] > 55) | (data[\"latitude\"] < 54)\n",
    "outliers = data.copy()[is_outlier]\n",
    "removed_outliers = preprocessor.fix_latlon_outliers(data.copy(), outliers)"
   ]
  },
  {
   "cell_type": "code",
   "execution_count": null,
   "id": "c28bc458-2d61-44d5-b389-ac3dca94e05f",
   "metadata": {},
   "outputs": [],
   "source": [
    "featured = preprocessor.combine_area_rooms(removed_outliers.copy())\n",
    "\n",
    "featured = preprocessor.remove_labels(featured.copy(), [\"area_living\", \"area_kitchen\", \"rooms\"])\n",
    "\n",
    "featured = preprocessor.combine_baths(featured.copy())\n",
    "featured = preprocessor.remove_labels(featured.copy(), labels=[\"bathrooms_private\", \"bathrooms_shared\"])\n",
    "\n",
    "featured = preprocessor.combine_windows(featured.copy())\n",
    "featured = preprocessor.combine_windows(featured.copy(), boolean=True)\n",
    "featured = preprocessor.combine_latlon(featured.copy())\n",
    "\n",
    "featured = preprocessor.remove_labels(featured.copy(), [\"id\", \"building_id\"])\n",
    "\n",
    "visualizer.price_correlation(featured)\n",
    "\n",
    "featured = preprocessor.remove_labels(featured.copy(), [\"garbage_chute\", \"phones\", \"has_windows\", \"windows_street\", \"windows_court\"])\n",
    "\n",
    "featured = preprocessor.combine_elevators(featured.copy())\n",
    "featured = preprocessor.remove_labels(featured.copy(), [\"elevator_passenger\", \"elevator_service\"])\n",
    "featured = preprocessor.redo_new(featured.copy())\n",
    "\n",
    "featured = preprocessor.combine_new_constructed_distance(featured.copy())\n",
    "featured = preprocessor.remove_labels(featured.copy(), [\"constructed\", \"new\"])\n",
    "\n",
    "featured = preprocessor.combine_floor_stories(featured.copy())\n",
    "featured = preprocessor.remove_labels(featured.copy(), [\"floor\", \"stories\"])\n",
    "\n",
    "featured = preprocessor.combine_district_city_center(featured.copy())\n",
    "#featured = preprocessor.remove_labels(featured.copy(),[\"district\",\"distance_enter\"])\n",
    "\n",
    "featured = preprocessor.combine_area_total_city_center(featured.copy())\n",
    "featured = preprocessor.logify(featured.copy(),\"area_total_distance\")\n",
    "\n",
    "featured = preprocessor.logify(featured.copy(),\"scaled_constructed\")\n",
    "featured = preprocessor.logify(featured.copy(),\"distance_center\")\n",
    "featured = preprocessor.logify(featured.copy(),\"lat\")\n",
    "featured = preprocessor.logify(featured.copy(),\"long\")\n",
    "featured = preprocessor.logify(featured.copy(),\"distance_center\")\n",
    "\n",
    "categorical = preprocessor.split_categorical_features(featured.copy(), [\"seller\", \"district\",\"material\", \"has_elevator\"])\n",
    "visualizer.price_correlation(featured)\n",
    "featured.head()"
   ]
  },
  {
   "cell_type": "code",
   "execution_count": null,
   "id": "1f625ae9-fea2-4eb7-93e5-78f10cfff4fd",
   "metadata": {},
   "outputs": [],
   "source": [
    "# Seperating training and test data\n",
    "train_data = categorical[:23285].copy()\n",
    "labels = train_data[\"price\"]\n",
    "test_data = categorical[23285:].copy()\n",
    "test_data.drop(\"price\", 1, inplace=True)\n",
    "print(\"Split data into train and test\")\n",
    "\n",
    "# Splitting training data into training and validation, removed the price for each of them afterwards\n",
    "x_train, x_test, y_train, y_test = train_test_split(train_data, labels, stratify=train_data.price.round(), test_size=0.001)\n",
    "x_train.drop(\"price\", 1, inplace=True)\n",
    "x_test.drop(\"price\", 1, inplace=True)\n",
    "print(\"Validation data created and price dropped\")\n",
    "print(\"The number of features are now:\", x_train.shape[1])\n",
    "\n",
    "print(\"Fitting model...\")\n",
    "model = TestModel(x_train, y_train)\n",
    "pipeline = model.fit()\n",
    "test_pred = np.round([np.expm1(pred) for pred in model.predict(x_test)])\n",
    "test_labels = np.round([np.expm1(lab)for lab in y_test])\n",
    "print(\"Fitting complete\")\n",
    "\n",
    "res = pd.DataFrame([(test_labels[i], test_pred[i]) for i in range(len(test_pred))], columns=[\"actual\", \"prediction\"])\n",
    "print(\"RMLSE: %s\" % model.root_mean_squared_log_error(test_labels, test_pred))\n",
    "res.to_csv(\"./split.csv\", index=False)\n",
    "\n",
    "pred = [np.expm1(p) for p in model.predict(test_data)]\n",
    "model.save_predictions(pred)"
   ]
  },
  {
   "cell_type": "code",
   "execution_count": null,
   "id": "c0a7be4e-b841-4fad-9ba5-513e35598ca5",
   "metadata": {
    "scrolled": true,
    "tags": []
   },
   "outputs": [],
   "source": [
    "automl_model = TestModel(x_train, y_train)\n",
    "automl_model.autoMLfit(x_train, y_train, [\"lgbm\",\"xgboost\",\"catboost\",'rf', 'extra_tree'],time=10000,ensemble=False)"
   ]
  },
  {
   "cell_type": "code",
   "execution_count": null,
   "id": "863b6676-0e5e-48ed-b6f1-4ef036f0d3bc",
   "metadata": {},
   "outputs": [],
   "source": [
    "test_pred = np.round([np.expm1(pred) for pred in automl_model.autoMLpredict(x_test)])\n",
    "test_labels = np.round([np.expm1(lab)for lab in y_test])\n",
    "print(\"Fitting complete\")\n",
    "\n",
    "res = pd.DataFrame([(test_labels[i], test_pred[i]) for i in range(len(test_pred))], columns=[\"actual\", \"prediction\"])\n",
    "print(\"RMLSE: %s\" % automl_model.root_mean_squared_log_error(test_labels, test_pred))\n",
    "res.to_csv(\"./split.csv\", index=False)\n",
    "\n",
    "pred = [np.expm1(p) for p in automl_model.predict(test_data)]\n",
    "automl_model.save_predictions(pred)\n",
    "automl_model.autoML_print_best_model()"
   ]
  },
  {
   "cell_type": "code",
   "execution_count": null,
   "id": "216fc243-bbad-4273-ac1b-565e706a1a41",
   "metadata": {},
   "outputs": [],
   "source": []
  }
 ],
 "metadata": {
  "kernelspec": {
   "display_name": "Python 3",
   "language": "python",
   "name": "python3"
  },
  "language_info": {
   "codemirror_mode": {
    "name": "ipython",
    "version": 3
   },
   "file_extension": ".py",
   "mimetype": "text/x-python",
   "name": "python",
   "nbconvert_exporter": "python",
   "pygments_lexer": "ipython3",
   "version": "3.8.8"
  }
 },
 "nbformat": 4,
 "nbformat_minor": 5
}
