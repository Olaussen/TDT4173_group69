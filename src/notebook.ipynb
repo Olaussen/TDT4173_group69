{
 "cells": [
  {
   "cell_type": "markdown",
   "metadata": {},
   "source": [
    "# Moscow housing prediction\n",
    "\n",
    "By Hauk Aleksander Olaussen, Charbel Badr and Noran Baskaran"
   ]
  },
  {
   "cell_type": "markdown",
   "metadata": {},
   "source": [
    "## About the group\n",
    "\n",
    "TODO"
   ]
  },
  {
   "cell_type": "markdown",
   "metadata": {},
   "source": [
    "## Introduction\n",
    "\n",
    "For this project we were tasked to create a machine learning algorithm that could predict house prices in Moscow based on features and known prices of the provided dataset. \n",
    "\n",
    "TODO\n",
    "\n",
    "The following code will allow us to auto reload code when changes are made."
   ]
  },
  {
   "cell_type": "code",
   "execution_count": 1,
   "metadata": {},
   "outputs": [],
   "source": [
    "%load_ext autoreload"
   ]
  },
  {
   "cell_type": "markdown",
   "metadata": {},
   "source": [
    "We begin with importing external and self made modules. Below you can see a description of the modules used:\n",
    "\n",
    "- `numpy` is the defacto python package for numerical calculation. Most other numerical libraries (including pandas) is based on numpy.\n",
    "- `pandas` is a widely used package for manipulating (mostly) tabular data\n",
    "- `matplotlib` is the most used plotting library for python\n",
    "- `seaborn` contains several convience functions for matplotlib and integrates very well with pandas\n",
    "- `Visualizer` contains several functions used to plot different parts of the data and their correlation\n",
    "- `Preprocessor` contains the main bulk of code used to preprocess and feature engineer the data provided to transform the data into something more understandable to a model\n",
    "- `Model` contiains the model used for predicting the price of an apartment or house based on the data preprocessed by Preprocessor\n"
   ]
  },
  {
   "cell_type": "code",
   "execution_count": 130,
   "metadata": {},
   "outputs": [],
   "source": [
    "%autoreload\n",
    "\n",
    "# import numpy as np \n",
    "import pandas as pd \n",
    "import matplotlib.pyplot as plt \n",
    "import seaborn as sns \n",
    "from Visualizer import Visualizer\n",
    "from Preprocessor import Preprocessor\n",
    "from Model import Model\n",
    "\n",
    "sns.set_style('darkgrid')"
   ]
  },
  {
   "cell_type": "markdown",
   "metadata": {},
   "source": [
    "## Describing the data\n",
    "\n",
    "### Apartments"
   ]
  },
  {
   "cell_type": "markdown",
   "metadata": {},
   "source": [
    "### Plotting some important features\n",
    "\n",
    "As one can see below, there is a strong correlation between the total area of an apartment, and what the total price will be. This is of course not surprising, as size is often something that has a strong influence on what the price of an apartment (or house) will be. \n",
    "\n",
    "As the bulk of the data lies below in prices below `1 billion`, we have removed the three outliers <span style=\"color:red\">(in red)</span> you can see in the first plot, to get a simpler visual view of how the area affects the total price in the second."
   ]
  },
  {
   "cell_type": "code",
   "execution_count": 111,
   "metadata": {},
   "outputs": [
    {
     "data": {
      "image/png": "[encoded data removed]",
      "text/plain": [
       "<Figure size 432x288 with 1 Axes>"
      ]
     },
     "metadata": {},
     "output_type": "display_data"
    }
   ],
   "source": [
    "preprocessor = Preprocessor()\n",
    "visualizer = Visualizer()\n",
    "data = visualizer\n",
    "m, b = visualizer.area_to_price(preprocessor.apartments)"
   ]
  },
  {
   "cell_type": "markdown",
   "metadata": {},
   "source": [
    "We see that we do have a correlation between the two, but of course, not enough for an accurate prediction with this alone.\n",
    "\n",
    "If we were to predict based on only this data alone - we could use the linear regression function found, which looks like this rounded to two decimals:"
   ]
  },
  {
   "cell_type": "code",
   "execution_count": 13,
   "metadata": {},
   "outputs": [
    {
     "data": {
      "text/plain": [
       "'f(x) = 731119.6x -30876411.05'"
      ]
     },
     "execution_count": 13,
     "metadata": {},
     "output_type": "execute_result"
    }
   ],
   "source": [
    " \"f(x) = %sx %s\" % (round(m, 2), round(b, 2))"
   ]
  },
  {
   "cell_type": "markdown",
   "metadata": {},
   "source": [
    "TODO Plot more features"
   ]
  },
  {
   "cell_type": "markdown",
   "metadata": {},
   "source": [
    "### [1] Trying to predict lineraly based on only total area"
   ]
  },
  {
   "cell_type": "markdown",
   "metadata": {},
   "source": [
    "Now lets try to predict what the housing prices will be using the some of the training data with just the total area as a feature.\n",
    "This will be a linear prediction based on the following data, which are the first 1000 entries in the training set:"
   ]
  },
  {
   "cell_type": "code",
   "execution_count": 112,
   "metadata": {},
   "outputs": [
    {
     "data": {
      "text/html": [
       "<div>\n",
       "<style scoped>\n",
       "    .dataframe tbody tr th:only-of-type {\n",
       "        vertical-align: middle;\n",
       "    }\n",
       "\n",
       "    .dataframe tbody tr th {\n",
       "        vertical-align: top;\n",
       "    }\n",
       "\n",
       "    .dataframe thead th {\n",
       "        text-align: right;\n",
       "    }\n",
       "</style>\n",
       "<table border=\"1\" class=\"dataframe\">\n",
       "  <thead>\n",
       "    <tr style=\"text-align: right;\">\n",
       "      <th></th>\n",
       "      <th>id</th>\n",
       "      <th>seller</th>\n",
       "      <th>price</th>\n",
       "      <th>area_total</th>\n",
       "      <th>area_kitchen</th>\n",
       "      <th>area_living</th>\n",
       "      <th>floor</th>\n",
       "      <th>rooms</th>\n",
       "      <th>layout</th>\n",
       "      <th>ceiling</th>\n",
       "      <th>bathrooms_shared</th>\n",
       "      <th>bathrooms_private</th>\n",
       "      <th>windows_court</th>\n",
       "      <th>windows_street</th>\n",
       "      <th>balconies</th>\n",
       "      <th>loggias</th>\n",
       "      <th>condition</th>\n",
       "      <th>phones</th>\n",
       "      <th>building_id</th>\n",
       "    </tr>\n",
       "  </thead>\n",
       "  <tbody>\n",
       "    <tr>\n",
       "      <th>0</th>\n",
       "      <td>0</td>\n",
       "      <td>3.0</td>\n",
       "      <td>7139520.0</td>\n",
       "      <td>59.2</td>\n",
       "      <td>12.5</td>\n",
       "      <td>31.0</td>\n",
       "      <td>2.0</td>\n",
       "      <td>2.0</td>\n",
       "      <td>NaN</td>\n",
       "      <td>2.65</td>\n",
       "      <td>0.0</td>\n",
       "      <td>2.0</td>\n",
       "      <td>0.0</td>\n",
       "      <td>1.0</td>\n",
       "      <td>NaN</td>\n",
       "      <td>NaN</td>\n",
       "      <td>NaN</td>\n",
       "      <td>1.0</td>\n",
       "      <td>4076</td>\n",
       "    </tr>\n",
       "    <tr>\n",
       "      <th>1</th>\n",
       "      <td>1</td>\n",
       "      <td>NaN</td>\n",
       "      <td>10500000.0</td>\n",
       "      <td>88.0</td>\n",
       "      <td>14.2</td>\n",
       "      <td>48.0</td>\n",
       "      <td>18.0</td>\n",
       "      <td>3.0</td>\n",
       "      <td>1.0</td>\n",
       "      <td>NaN</td>\n",
       "      <td>2.0</td>\n",
       "      <td>0.0</td>\n",
       "      <td>1.0</td>\n",
       "      <td>1.0</td>\n",
       "      <td>1.0</td>\n",
       "      <td>0.0</td>\n",
       "      <td>3.0</td>\n",
       "      <td>1.0</td>\n",
       "      <td>1893</td>\n",
       "    </tr>\n",
       "    <tr>\n",
       "      <th>2</th>\n",
       "      <td>2</td>\n",
       "      <td>3.0</td>\n",
       "      <td>9019650.0</td>\n",
       "      <td>78.5</td>\n",
       "      <td>22.5</td>\n",
       "      <td>40.8</td>\n",
       "      <td>12.0</td>\n",
       "      <td>3.0</td>\n",
       "      <td>NaN</td>\n",
       "      <td>2.65</td>\n",
       "      <td>0.0</td>\n",
       "      <td>2.0</td>\n",
       "      <td>1.0</td>\n",
       "      <td>1.0</td>\n",
       "      <td>NaN</td>\n",
       "      <td>NaN</td>\n",
       "      <td>NaN</td>\n",
       "      <td>1.0</td>\n",
       "      <td>5176</td>\n",
       "    </tr>\n",
       "    <tr>\n",
       "      <th>3</th>\n",
       "      <td>3</td>\n",
       "      <td>NaN</td>\n",
       "      <td>10500000.0</td>\n",
       "      <td>88.0</td>\n",
       "      <td>14.0</td>\n",
       "      <td>48.0</td>\n",
       "      <td>18.0</td>\n",
       "      <td>3.0</td>\n",
       "      <td>NaN</td>\n",
       "      <td>NaN</td>\n",
       "      <td>0.0</td>\n",
       "      <td>2.0</td>\n",
       "      <td>1.0</td>\n",
       "      <td>1.0</td>\n",
       "      <td>0.0</td>\n",
       "      <td>1.0</td>\n",
       "      <td>2.0</td>\n",
       "      <td>1.0</td>\n",
       "      <td>1893</td>\n",
       "    </tr>\n",
       "    <tr>\n",
       "      <th>4</th>\n",
       "      <td>4</td>\n",
       "      <td>NaN</td>\n",
       "      <td>13900000.0</td>\n",
       "      <td>78.0</td>\n",
       "      <td>17.0</td>\n",
       "      <td>35.0</td>\n",
       "      <td>7.0</td>\n",
       "      <td>2.0</td>\n",
       "      <td>1.0</td>\n",
       "      <td>2.90</td>\n",
       "      <td>1.0</td>\n",
       "      <td>0.0</td>\n",
       "      <td>1.0</td>\n",
       "      <td>1.0</td>\n",
       "      <td>0.0</td>\n",
       "      <td>1.0</td>\n",
       "      <td>3.0</td>\n",
       "      <td>1.0</td>\n",
       "      <td>6604</td>\n",
       "    </tr>\n",
       "    <tr>\n",
       "      <th>...</th>\n",
       "      <td>...</td>\n",
       "      <td>...</td>\n",
       "      <td>...</td>\n",
       "      <td>...</td>\n",
       "      <td>...</td>\n",
       "      <td>...</td>\n",
       "      <td>...</td>\n",
       "      <td>...</td>\n",
       "      <td>...</td>\n",
       "      <td>...</td>\n",
       "      <td>...</td>\n",
       "      <td>...</td>\n",
       "      <td>...</td>\n",
       "      <td>...</td>\n",
       "      <td>...</td>\n",
       "      <td>...</td>\n",
       "      <td>...</td>\n",
       "      <td>...</td>\n",
       "      <td>...</td>\n",
       "    </tr>\n",
       "    <tr>\n",
       "      <th>995</th>\n",
       "      <td>995</td>\n",
       "      <td>NaN</td>\n",
       "      <td>7600000.0</td>\n",
       "      <td>33.0</td>\n",
       "      <td>NaN</td>\n",
       "      <td>NaN</td>\n",
       "      <td>9.0</td>\n",
       "      <td>1.0</td>\n",
       "      <td>NaN</td>\n",
       "      <td>NaN</td>\n",
       "      <td>NaN</td>\n",
       "      <td>NaN</td>\n",
       "      <td>NaN</td>\n",
       "      <td>NaN</td>\n",
       "      <td>NaN</td>\n",
       "      <td>NaN</td>\n",
       "      <td>NaN</td>\n",
       "      <td>0.0</td>\n",
       "      <td>4783</td>\n",
       "    </tr>\n",
       "    <tr>\n",
       "      <th>996</th>\n",
       "      <td>996</td>\n",
       "      <td>NaN</td>\n",
       "      <td>7626710.0</td>\n",
       "      <td>49.0</td>\n",
       "      <td>NaN</td>\n",
       "      <td>NaN</td>\n",
       "      <td>9.0</td>\n",
       "      <td>2.0</td>\n",
       "      <td>NaN</td>\n",
       "      <td>NaN</td>\n",
       "      <td>NaN</td>\n",
       "      <td>NaN</td>\n",
       "      <td>NaN</td>\n",
       "      <td>NaN</td>\n",
       "      <td>NaN</td>\n",
       "      <td>NaN</td>\n",
       "      <td>NaN</td>\n",
       "      <td>0.0</td>\n",
       "      <td>3351</td>\n",
       "    </tr>\n",
       "    <tr>\n",
       "      <th>997</th>\n",
       "      <td>997</td>\n",
       "      <td>NaN</td>\n",
       "      <td>7600000.0</td>\n",
       "      <td>33.0</td>\n",
       "      <td>NaN</td>\n",
       "      <td>NaN</td>\n",
       "      <td>8.0</td>\n",
       "      <td>1.0</td>\n",
       "      <td>NaN</td>\n",
       "      <td>NaN</td>\n",
       "      <td>NaN</td>\n",
       "      <td>NaN</td>\n",
       "      <td>NaN</td>\n",
       "      <td>NaN</td>\n",
       "      <td>NaN</td>\n",
       "      <td>NaN</td>\n",
       "      <td>NaN</td>\n",
       "      <td>0.0</td>\n",
       "      <td>4878</td>\n",
       "    </tr>\n",
       "    <tr>\n",
       "      <th>998</th>\n",
       "      <td>998</td>\n",
       "      <td>NaN</td>\n",
       "      <td>7700000.0</td>\n",
       "      <td>31.0</td>\n",
       "      <td>NaN</td>\n",
       "      <td>NaN</td>\n",
       "      <td>5.0</td>\n",
       "      <td>1.0</td>\n",
       "      <td>NaN</td>\n",
       "      <td>NaN</td>\n",
       "      <td>NaN</td>\n",
       "      <td>NaN</td>\n",
       "      <td>NaN</td>\n",
       "      <td>NaN</td>\n",
       "      <td>NaN</td>\n",
       "      <td>NaN</td>\n",
       "      <td>NaN</td>\n",
       "      <td>0.0</td>\n",
       "      <td>6012</td>\n",
       "    </tr>\n",
       "    <tr>\n",
       "      <th>999</th>\n",
       "      <td>999</td>\n",
       "      <td>NaN</td>\n",
       "      <td>7700000.0</td>\n",
       "      <td>41.0</td>\n",
       "      <td>NaN</td>\n",
       "      <td>NaN</td>\n",
       "      <td>14.0</td>\n",
       "      <td>1.0</td>\n",
       "      <td>NaN</td>\n",
       "      <td>NaN</td>\n",
       "      <td>NaN</td>\n",
       "      <td>NaN</td>\n",
       "      <td>NaN</td>\n",
       "      <td>NaN</td>\n",
       "      <td>NaN</td>\n",
       "      <td>NaN</td>\n",
       "      <td>NaN</td>\n",
       "      <td>0.0</td>\n",
       "      <td>8196</td>\n",
       "    </tr>\n",
       "  </tbody>\n",
       "</table>\n",
       "<p>1000 rows × 19 columns</p>\n",
       "</div>"
      ],
      "text/plain": [
       "      id  seller       price  area_total  area_kitchen  area_living  floor  \\\n",
       "0      0     3.0   7139520.0        59.2          12.5         31.0    2.0   \n",
       "1      1     NaN  10500000.0        88.0          14.2         48.0   18.0   \n",
       "2      2     3.0   9019650.0        78.5          22.5         40.8   12.0   \n",
       "3      3     NaN  10500000.0        88.0          14.0         48.0   18.0   \n",
       "4      4     NaN  13900000.0        78.0          17.0         35.0    7.0   \n",
       "..   ...     ...         ...         ...           ...          ...    ...   \n",
       "995  995     NaN   7600000.0        33.0           NaN          NaN    9.0   \n",
       "996  996     NaN   7626710.0        49.0           NaN          NaN    9.0   \n",
       "997  997     NaN   7600000.0        33.0           NaN          NaN    8.0   \n",
       "998  998     NaN   7700000.0        31.0           NaN          NaN    5.0   \n",
       "999  999     NaN   7700000.0        41.0           NaN          NaN   14.0   \n",
       "\n",
       "     rooms  layout  ceiling  bathrooms_shared  bathrooms_private  \\\n",
       "0      2.0     NaN     2.65               0.0                2.0   \n",
       "1      3.0     1.0      NaN               2.0                0.0   \n",
       "2      3.0     NaN     2.65               0.0                2.0   \n",
       "3      3.0     NaN      NaN               0.0                2.0   \n",
       "4      2.0     1.0     2.90               1.0                0.0   \n",
       "..     ...     ...      ...               ...                ...   \n",
       "995    1.0     NaN      NaN               NaN                NaN   \n",
       "996    2.0     NaN      NaN               NaN                NaN   \n",
       "997    1.0     NaN      NaN               NaN                NaN   \n",
       "998    1.0     NaN      NaN               NaN                NaN   \n",
       "999    1.0     NaN      NaN               NaN                NaN   \n",
       "\n",
       "     windows_court  windows_street  balconies  loggias  condition  phones  \\\n",
       "0              0.0             1.0        NaN      NaN        NaN     1.0   \n",
       "1              1.0             1.0        1.0      0.0        3.0     1.0   \n",
       "2              1.0             1.0        NaN      NaN        NaN     1.0   \n",
       "3              1.0             1.0        0.0      1.0        2.0     1.0   \n",
       "4              1.0             1.0        0.0      1.0        3.0     1.0   \n",
       "..             ...             ...        ...      ...        ...     ...   \n",
       "995            NaN             NaN        NaN      NaN        NaN     0.0   \n",
       "996            NaN             NaN        NaN      NaN        NaN     0.0   \n",
       "997            NaN             NaN        NaN      NaN        NaN     0.0   \n",
       "998            NaN             NaN        NaN      NaN        NaN     0.0   \n",
       "999            NaN             NaN        NaN      NaN        NaN     0.0   \n",
       "\n",
       "     building_id  \n",
       "0           4076  \n",
       "1           1893  \n",
       "2           5176  \n",
       "3           1893  \n",
       "4           6604  \n",
       "..           ...  \n",
       "995         4783  \n",
       "996         3351  \n",
       "997         4878  \n",
       "998         6012  \n",
       "999         8196  \n",
       "\n",
       "[1000 rows x 19 columns]"
      ]
     },
     "execution_count": 112,
     "metadata": {},
     "output_type": "execute_result"
    }
   ],
   "source": [
    "model = Model()\n",
    "test_data = preprocessor.apartments[:1000]\n",
    "test_data"
   ]
  },
  {
   "cell_type": "markdown",
   "metadata": {},
   "source": [
    "Below we can see the apartment id and its price prediction based on this linear prediction. "
   ]
  },
  {
   "cell_type": "code",
   "execution_count": 113,
   "metadata": {},
   "outputs": [
    {
     "data": {
      "text/html": [
       "<div>\n",
       "<style scoped>\n",
       "    .dataframe tbody tr th:only-of-type {\n",
       "        vertical-align: middle;\n",
       "    }\n",
       "\n",
       "    .dataframe tbody tr th {\n",
       "        vertical-align: top;\n",
       "    }\n",
       "\n",
       "    .dataframe thead th {\n",
       "        text-align: right;\n",
       "    }\n",
       "</style>\n",
       "<table border=\"1\" class=\"dataframe\">\n",
       "  <thead>\n",
       "    <tr style=\"text-align: right;\">\n",
       "      <th></th>\n",
       "      <th>id</th>\n",
       "      <th>price</th>\n",
       "    </tr>\n",
       "  </thead>\n",
       "  <tbody>\n",
       "    <tr>\n",
       "      <th>0</th>\n",
       "      <td>0</td>\n",
       "      <td>1.240587e+07</td>\n",
       "    </tr>\n",
       "    <tr>\n",
       "      <th>1</th>\n",
       "      <td>1</td>\n",
       "      <td>3.346211e+07</td>\n",
       "    </tr>\n",
       "    <tr>\n",
       "      <th>2</th>\n",
       "      <td>2</td>\n",
       "      <td>2.651648e+07</td>\n",
       "    </tr>\n",
       "    <tr>\n",
       "      <th>3</th>\n",
       "      <td>3</td>\n",
       "      <td>3.346211e+07</td>\n",
       "    </tr>\n",
       "    <tr>\n",
       "      <th>4</th>\n",
       "      <td>4</td>\n",
       "      <td>2.615092e+07</td>\n",
       "    </tr>\n",
       "    <tr>\n",
       "      <th>...</th>\n",
       "      <td>...</td>\n",
       "      <td>...</td>\n",
       "    </tr>\n",
       "    <tr>\n",
       "      <th>995</th>\n",
       "      <td>995</td>\n",
       "      <td>0.000000e+00</td>\n",
       "    </tr>\n",
       "    <tr>\n",
       "      <th>996</th>\n",
       "      <td>996</td>\n",
       "      <td>4.948449e+06</td>\n",
       "    </tr>\n",
       "    <tr>\n",
       "      <th>997</th>\n",
       "      <td>997</td>\n",
       "      <td>0.000000e+00</td>\n",
       "    </tr>\n",
       "    <tr>\n",
       "      <th>998</th>\n",
       "      <td>998</td>\n",
       "      <td>0.000000e+00</td>\n",
       "    </tr>\n",
       "    <tr>\n",
       "      <th>999</th>\n",
       "      <td>999</td>\n",
       "      <td>0.000000e+00</td>\n",
       "    </tr>\n",
       "  </tbody>\n",
       "</table>\n",
       "<p>1000 rows × 2 columns</p>\n",
       "</div>"
      ],
      "text/plain": [
       "      id         price\n",
       "0      0  1.240587e+07\n",
       "1      1  3.346211e+07\n",
       "2      2  2.651648e+07\n",
       "3      3  3.346211e+07\n",
       "4      4  2.615092e+07\n",
       "..   ...           ...\n",
       "995  995  0.000000e+00\n",
       "996  996  4.948449e+06\n",
       "997  997  0.000000e+00\n",
       "998  998  0.000000e+00\n",
       "999  999  0.000000e+00\n",
       "\n",
       "[1000 rows x 2 columns]"
      ]
     },
     "execution_count": 113,
     "metadata": {},
     "output_type": "execute_result"
    }
   ],
   "source": [
    "pred = model.predict_linearly(m, b, test_data)\n",
    "pred"
   ]
  },
  {
   "cell_type": "markdown",
   "metadata": {},
   "source": [
    "Surprise, surprise - it is __really__ bad! <br>\n",
    "It has a RMSLE of 8.19, which is __very__ high for this dataset - meaning that this way of predicting prices will not perform well enough!\n",
    "To be fair - this is not machine learning, as all we do it feeding the linear function an input `total area`, and it will spit out some number `predicted price`. \n",
    "This is just pure math with no manipulation or anything - and will rarely be satisfactory when we have data of this magnitude of complexity."
   ]
  },
  {
   "cell_type": "code",
   "execution_count": 114,
   "metadata": {},
   "outputs": [
    {
     "data": {
      "text/plain": [
       "8.190827280658308"
      ]
     },
     "execution_count": 114,
     "metadata": {},
     "output_type": "execute_result"
    }
   ],
   "source": [
    "error = model.root_mean_squared_log_error(test_data[\"price\"], pred[\"price\"])\n",
    "error"
   ]
  },
  {
   "cell_type": "markdown",
   "metadata": {},
   "source": [
    "## [2] How did we manipulate and feature engineer the data to optimize our algorithm?\n",
    "\n",
    "TODO Explain this (we have littelary not done anytuhWe all understood that we need to the other features into consideration as well. We will discuss how we manipulated and feature engineered the data in the next section."
   ]
  },
  {
   "cell_type": "code",
   "execution_count": 131,
   "metadata": {},
   "outputs": [
    {
     "data": {
      "text/html": [
       "<div>\n",
       "<style scoped>\n",
       "    .dataframe tbody tr th:only-of-type {\n",
       "        vertical-align: middle;\n",
       "    }\n",
       "\n",
       "    .dataframe tbody tr th {\n",
       "        vertical-align: top;\n",
       "    }\n",
       "\n",
       "    .dataframe thead th {\n",
       "        text-align: right;\n",
       "    }\n",
       "</style>\n",
       "<table border=\"1\" class=\"dataframe\">\n",
       "  <thead>\n",
       "    <tr style=\"text-align: right;\">\n",
       "      <th></th>\n",
       "      <th>id</th>\n",
       "      <th>price_prediction</th>\n",
       "    </tr>\n",
       "  </thead>\n",
       "  <tbody>\n",
       "    <tr>\n",
       "      <th>0</th>\n",
       "      <td>23285</td>\n",
       "      <td>3.759493e+07</td>\n",
       "    </tr>\n",
       "    <tr>\n",
       "      <th>1</th>\n",
       "      <td>23286</td>\n",
       "      <td>3.306972e+07</td>\n",
       "    </tr>\n",
       "    <tr>\n",
       "      <th>2</th>\n",
       "      <td>23287</td>\n",
       "      <td>8.832865e+06</td>\n",
       "    </tr>\n",
       "    <tr>\n",
       "      <th>3</th>\n",
       "      <td>23288</td>\n",
       "      <td>2.074042e+07</td>\n",
       "    </tr>\n",
       "    <tr>\n",
       "      <th>4</th>\n",
       "      <td>23289</td>\n",
       "      <td>2.573100e+06</td>\n",
       "    </tr>\n",
       "    <tr>\n",
       "      <th>...</th>\n",
       "      <td>...</td>\n",
       "      <td>...</td>\n",
       "    </tr>\n",
       "    <tr>\n",
       "      <th>9932</th>\n",
       "      <td>33217</td>\n",
       "      <td>3.306800e+07</td>\n",
       "    </tr>\n",
       "    <tr>\n",
       "      <th>9933</th>\n",
       "      <td>33218</td>\n",
       "      <td>3.351075e+07</td>\n",
       "    </tr>\n",
       "    <tr>\n",
       "      <th>9934</th>\n",
       "      <td>33219</td>\n",
       "      <td>2.104622e+07</td>\n",
       "    </tr>\n",
       "    <tr>\n",
       "      <th>9935</th>\n",
       "      <td>33220</td>\n",
       "      <td>4.726584e+06</td>\n",
       "    </tr>\n",
       "    <tr>\n",
       "      <th>9936</th>\n",
       "      <td>33221</td>\n",
       "      <td>1.575655e+07</td>\n",
       "    </tr>\n",
       "  </tbody>\n",
       "</table>\n",
       "<p>9937 rows × 2 columns</p>\n",
       "</div>"
      ],
      "text/plain": [
       "         id  price_prediction\n",
       "0     23285      3.759493e+07\n",
       "1     23286      3.306972e+07\n",
       "2     23287      8.832865e+06\n",
       "3     23288      2.074042e+07\n",
       "4     23289      2.573100e+06\n",
       "...     ...               ...\n",
       "9932  33217      3.306800e+07\n",
       "9933  33218      3.351075e+07\n",
       "9934  33219      2.104622e+07\n",
       "9935  33220      4.726584e+06\n",
       "9936  33221      1.575655e+07\n",
       "\n",
       "[9937 rows x 2 columns]"
      ]
     },
     "execution_count": 131,
     "metadata": {},
     "output_type": "execute_result"
    }
   ],
   "source": [
    "labels = preprocessor.apartments[\"price\"]\n",
    "training_data = preprocessor.preprocessed_apartments()\n",
    "test_data = preprocessor.preprocessed_apartments(test_set = True)\n",
    "model.fit(training_data, labels)\n",
    "pred = model.predict(test_data)\n",
    "model.save_predictions(pred)"
   ]
  },
  {
   "cell_type": "code",
   "execution_count": 132,
   "metadata": {},
   "outputs": [
    {
     "data": {
      "image/png": "[encoded data removed]",
      "text/plain": [
       "<Figure size 432x288 with 1 Axes>"
      ]
     },
     "metadata": {},
     "output_type": "display_data"
    },
    {
     "data": {
      "image/png": "[encoded data removed]",
      "text/plain": [
       "<Figure size 432x288 with 1 Axes>"
      ]
     },
     "metadata": {},
     "output_type": "display_data"
    },
    {
     "data": {
      "text/plain": [
       "0.7267578706550315"
      ]
     },
     "execution_count": 132,
     "metadata": {},
     "output_type": "execute_result"
    }
   ],
   "source": [
    "visualizer.area_to_price(preprocessor.apartments)\n",
    "data = [(preprocessor.apartments_test[\"area_total\"][i], pred[i]) for i in range(len(pred))]\n",
    "data = pd.DataFrame(data, columns = [\"area_total\", \"price\"])\n",
    "visualizer.area_to_price(data)\n",
    "model.score"
   ]
  },
  {
   "cell_type": "markdown",
   "metadata": {},
   "source": [
    "### Buildings\n",
    "\n",
    "TODO"
   ]
  },
  {
   "cell_type": "code",
   "execution_count": null,
   "metadata": {},
   "outputs": [],
   "source": []
  }
 ],
 "metadata": {
  "kernelspec": {
   "display_name": "Python 3",
   "language": "python",
   "name": "python3"
  },
  "language_info": {
   "codemirror_mode": {
    "name": "ipython",
    "version": 3
   },
   "file_extension": ".py",
   "mimetype": "text/x-python",
   "name": "python",
   "nbconvert_exporter": "python",
   "pygments_lexer": "ipython3",
   "version": "3.8.8"
  }
 },
 "nbformat": 4,
 "nbformat_minor": 4
}
