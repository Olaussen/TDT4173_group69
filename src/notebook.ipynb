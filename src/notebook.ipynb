{
 "cells": [
  {
   "cell_type": "markdown",
   "metadata": {},
   "source": [
    "# Moscow housing prediction\n",
    "\n",
    "By Hauk Aleksander Olaussen, Charbel Badr and Noran Baskaran"
   ]
  },
  {
   "cell_type": "markdown",
   "metadata": {},
   "source": [
    "## About the group\n",
    "\n",
    "TODO"
   ]
  },
  {
   "cell_type": "markdown",
   "metadata": {},
   "source": [
    "## Introduction\n",
    "\n",
    "For this project we were tasked to create a machine learning algorithm that could predict house prices in Moscow based on features and known prices of the provided dataset. \n",
    "\n",
    "TODO\n",
    "\n",
    "The following code will allow us to auto reload code when changes are made."
   ]
  },
  {
   "cell_type": "code",
   "execution_count": 1,
   "metadata": {},
   "outputs": [],
   "source": [
    "%load_ext autoreload"
   ]
  },
  {
   "cell_type": "markdown",
   "metadata": {},
   "source": [
    "We begin with importing external and self made modules. Below you can see a description of the modules used:\n",
    "\n",
    "- `numpy` is the defacto python package for numerical calculation. Most other numerical libraries (including pandas) is based on numpy.\n",
    "- `pandas` is a widely used package for manipulating (mostly) tabular data\n",
    "- `matplotlib` is the most used plotting library for python\n",
    "- `seaborn` contains several convience functions for matplotlib and integrates very well with pandas\n",
    "- `Visualizer` contains several functions used to plot different parts of the data and their correlation\n",
    "- `Preprocessor` contains the main bulk of code used to preprocess and feature engineer the data provided to transform the data into something more understandable to a model\n",
    "- `Model` contiains the model used for predicting the price of an apartment or house based on the data preprocessed by Preprocessor\n"
   ]
  },
  {
   "cell_type": "code",
   "execution_count": 2,
   "metadata": {},
   "outputs": [],
   "source": [
    "%autoreload\n",
    " \n",
    "import numpy as np \n",
    "import pandas as pd \n",
    "import matplotlib.pyplot as plt \n",
    "import seaborn as sns \n",
    "from Visualizer import Visualizer\n",
    "from Preprocessor import Preprocessor\n",
    "from Model import Model\n",
    "\n",
    "sns.set_style('darkgrid')\n",
    "pd.set_option(\"display.max_columns\", None)"
   ]
  },
  {
   "cell_type": "markdown",
   "metadata": {},
   "source": [
    "## Describing the data\n",
    "\n",
    "### Apartments"
   ]
  },
  {
   "cell_type": "markdown",
   "metadata": {},
   "source": [
    "### Plotting some important features\n",
    "\n",
    "As one can see below, there is a correlation between the total area of an apartment, and what the total price will be. This is of course not surprising, as size is often something that has a strong influence on what the price of an apartment (or house) will be. It is, however, not good enough to produce an accurate prediction based on this data alone. You can see other interesting correlations and connections in the data analysis below."
   ]
  },
  {
   "cell_type": "code",
   "execution_count": 3,
   "metadata": {},
   "outputs": [
    {
     "data": {
      "image/png": "[encoded data removed]",
      "text/plain": [
       "<Figure size 432x288 with 1 Axes>"
      ]
     },
     "metadata": {},
     "output_type": "display_data"
    }
   ],
   "source": [
    "preprocessor = Preprocessor()\n",
    "visualizer = Visualizer()\n",
    "data = visualizer\n",
    "m, b = visualizer.area_to_price(preprocessor.apartments)"
   ]
  },
  {
   "cell_type": "markdown",
   "metadata": {},
   "source": [
    "If we were to predict based on only this data alone - we could use the linear regression function found, which looks like this rounded to two decimals:"
   ]
  },
  {
   "cell_type": "code",
   "execution_count": 4,
   "metadata": {},
   "outputs": [
    {
     "name": "stdout",
     "output_type": "stream",
     "text": [
      "f(x) = 731119.6x -30876411.05\n"
     ]
    }
   ],
   "source": [
    " print(\"f(x) = %sx %s\" % (round(m, 2), round(b, 2)))"
   ]
  },
  {
   "cell_type": "markdown",
   "metadata": {},
   "source": [
    "TODO Plot more features"
   ]
  },
  {
   "cell_type": "markdown",
   "metadata": {},
   "source": [
    "### [1] Trying to predict lineraly based on only total area"
   ]
  },
  {
   "cell_type": "markdown",
   "metadata": {},
   "source": [
    "Now lets try to predict what the housing prices will be using the some of the training data with just the total area as a feature.\n",
    "This will be a linear prediction based on the following data - the training data:"
   ]
  },
  {
   "cell_type": "code",
   "execution_count": 5,
   "metadata": {},
   "outputs": [
    {
     "data": {
      "text/html": [
       "<div>\n",
       "<style scoped>\n",
       "    .dataframe tbody tr th:only-of-type {\n",
       "        vertical-align: middle;\n",
       "    }\n",
       "\n",
       "    .dataframe tbody tr th {\n",
       "        vertical-align: top;\n",
       "    }\n",
       "\n",
       "    .dataframe thead th {\n",
       "        text-align: right;\n",
       "    }\n",
       "</style>\n",
       "<table border=\"1\" class=\"dataframe\">\n",
       "  <thead>\n",
       "    <tr style=\"text-align: right;\">\n",
       "      <th></th>\n",
       "      <th>id</th>\n",
       "      <th>seller</th>\n",
       "      <th>price</th>\n",
       "      <th>area_total</th>\n",
       "      <th>area_kitchen</th>\n",
       "      <th>area_living</th>\n",
       "      <th>floor</th>\n",
       "      <th>rooms</th>\n",
       "      <th>layout</th>\n",
       "      <th>ceiling</th>\n",
       "      <th>bathrooms_shared</th>\n",
       "      <th>bathrooms_private</th>\n",
       "      <th>windows_court</th>\n",
       "      <th>windows_street</th>\n",
       "      <th>balconies</th>\n",
       "      <th>loggias</th>\n",
       "      <th>condition</th>\n",
       "      <th>phones</th>\n",
       "      <th>building_id</th>\n",
       "    </tr>\n",
       "  </thead>\n",
       "  <tbody>\n",
       "    <tr>\n",
       "      <th>0</th>\n",
       "      <td>0</td>\n",
       "      <td>3.0</td>\n",
       "      <td>7139520.0</td>\n",
       "      <td>59.2</td>\n",
       "      <td>12.5</td>\n",
       "      <td>31.0</td>\n",
       "      <td>2.0</td>\n",
       "      <td>2.0</td>\n",
       "      <td>NaN</td>\n",
       "      <td>2.65</td>\n",
       "      <td>0.0</td>\n",
       "      <td>2.0</td>\n",
       "      <td>0.0</td>\n",
       "      <td>1.0</td>\n",
       "      <td>NaN</td>\n",
       "      <td>NaN</td>\n",
       "      <td>NaN</td>\n",
       "      <td>1.0</td>\n",
       "      <td>4076</td>\n",
       "    </tr>\n",
       "    <tr>\n",
       "      <th>1</th>\n",
       "      <td>1</td>\n",
       "      <td>NaN</td>\n",
       "      <td>10500000.0</td>\n",
       "      <td>88.0</td>\n",
       "      <td>14.2</td>\n",
       "      <td>48.0</td>\n",
       "      <td>18.0</td>\n",
       "      <td>3.0</td>\n",
       "      <td>1.0</td>\n",
       "      <td>NaN</td>\n",
       "      <td>2.0</td>\n",
       "      <td>0.0</td>\n",
       "      <td>1.0</td>\n",
       "      <td>1.0</td>\n",
       "      <td>1.0</td>\n",
       "      <td>0.0</td>\n",
       "      <td>3.0</td>\n",
       "      <td>1.0</td>\n",
       "      <td>1893</td>\n",
       "    </tr>\n",
       "    <tr>\n",
       "      <th>2</th>\n",
       "      <td>2</td>\n",
       "      <td>3.0</td>\n",
       "      <td>9019650.0</td>\n",
       "      <td>78.5</td>\n",
       "      <td>22.5</td>\n",
       "      <td>40.8</td>\n",
       "      <td>12.0</td>\n",
       "      <td>3.0</td>\n",
       "      <td>NaN</td>\n",
       "      <td>2.65</td>\n",
       "      <td>0.0</td>\n",
       "      <td>2.0</td>\n",
       "      <td>1.0</td>\n",
       "      <td>1.0</td>\n",
       "      <td>NaN</td>\n",
       "      <td>NaN</td>\n",
       "      <td>NaN</td>\n",
       "      <td>1.0</td>\n",
       "      <td>5176</td>\n",
       "    </tr>\n",
       "    <tr>\n",
       "      <th>3</th>\n",
       "      <td>3</td>\n",
       "      <td>NaN</td>\n",
       "      <td>10500000.0</td>\n",
       "      <td>88.0</td>\n",
       "      <td>14.0</td>\n",
       "      <td>48.0</td>\n",
       "      <td>18.0</td>\n",
       "      <td>3.0</td>\n",
       "      <td>NaN</td>\n",
       "      <td>NaN</td>\n",
       "      <td>0.0</td>\n",
       "      <td>2.0</td>\n",
       "      <td>1.0</td>\n",
       "      <td>1.0</td>\n",
       "      <td>0.0</td>\n",
       "      <td>1.0</td>\n",
       "      <td>2.0</td>\n",
       "      <td>1.0</td>\n",
       "      <td>1893</td>\n",
       "    </tr>\n",
       "    <tr>\n",
       "      <th>4</th>\n",
       "      <td>4</td>\n",
       "      <td>NaN</td>\n",
       "      <td>13900000.0</td>\n",
       "      <td>78.0</td>\n",
       "      <td>17.0</td>\n",
       "      <td>35.0</td>\n",
       "      <td>7.0</td>\n",
       "      <td>2.0</td>\n",
       "      <td>1.0</td>\n",
       "      <td>2.90</td>\n",
       "      <td>1.0</td>\n",
       "      <td>0.0</td>\n",
       "      <td>1.0</td>\n",
       "      <td>1.0</td>\n",
       "      <td>0.0</td>\n",
       "      <td>1.0</td>\n",
       "      <td>3.0</td>\n",
       "      <td>1.0</td>\n",
       "      <td>6604</td>\n",
       "    </tr>\n",
       "    <tr>\n",
       "      <th>...</th>\n",
       "      <td>...</td>\n",
       "      <td>...</td>\n",
       "      <td>...</td>\n",
       "      <td>...</td>\n",
       "      <td>...</td>\n",
       "      <td>...</td>\n",
       "      <td>...</td>\n",
       "      <td>...</td>\n",
       "      <td>...</td>\n",
       "      <td>...</td>\n",
       "      <td>...</td>\n",
       "      <td>...</td>\n",
       "      <td>...</td>\n",
       "      <td>...</td>\n",
       "      <td>...</td>\n",
       "      <td>...</td>\n",
       "      <td>...</td>\n",
       "      <td>...</td>\n",
       "      <td>...</td>\n",
       "    </tr>\n",
       "    <tr>\n",
       "      <th>23280</th>\n",
       "      <td>23280</td>\n",
       "      <td>NaN</td>\n",
       "      <td>13300000.0</td>\n",
       "      <td>65.0</td>\n",
       "      <td>16.0</td>\n",
       "      <td>32.0</td>\n",
       "      <td>3.0</td>\n",
       "      <td>2.0</td>\n",
       "      <td>NaN</td>\n",
       "      <td>3.00</td>\n",
       "      <td>0.0</td>\n",
       "      <td>1.0</td>\n",
       "      <td>1.0</td>\n",
       "      <td>0.0</td>\n",
       "      <td>0.0</td>\n",
       "      <td>1.0</td>\n",
       "      <td>3.0</td>\n",
       "      <td>1.0</td>\n",
       "      <td>3139</td>\n",
       "    </tr>\n",
       "    <tr>\n",
       "      <th>23281</th>\n",
       "      <td>23281</td>\n",
       "      <td>3.0</td>\n",
       "      <td>15854300.0</td>\n",
       "      <td>56.9</td>\n",
       "      <td>9.6</td>\n",
       "      <td>36.5</td>\n",
       "      <td>6.0</td>\n",
       "      <td>2.0</td>\n",
       "      <td>NaN</td>\n",
       "      <td>NaN</td>\n",
       "      <td>NaN</td>\n",
       "      <td>NaN</td>\n",
       "      <td>NaN</td>\n",
       "      <td>NaN</td>\n",
       "      <td>NaN</td>\n",
       "      <td>NaN</td>\n",
       "      <td>NaN</td>\n",
       "      <td>1.0</td>\n",
       "      <td>7624</td>\n",
       "    </tr>\n",
       "    <tr>\n",
       "      <th>23282</th>\n",
       "      <td>23282</td>\n",
       "      <td>NaN</td>\n",
       "      <td>19800000.0</td>\n",
       "      <td>73.4</td>\n",
       "      <td>23.0</td>\n",
       "      <td>29.3</td>\n",
       "      <td>16.0</td>\n",
       "      <td>2.0</td>\n",
       "      <td>NaN</td>\n",
       "      <td>NaN</td>\n",
       "      <td>NaN</td>\n",
       "      <td>NaN</td>\n",
       "      <td>NaN</td>\n",
       "      <td>NaN</td>\n",
       "      <td>NaN</td>\n",
       "      <td>NaN</td>\n",
       "      <td>NaN</td>\n",
       "      <td>0.0</td>\n",
       "      <td>8021</td>\n",
       "    </tr>\n",
       "    <tr>\n",
       "      <th>23283</th>\n",
       "      <td>23283</td>\n",
       "      <td>0.0</td>\n",
       "      <td>29999000.0</td>\n",
       "      <td>100.8</td>\n",
       "      <td>20.0</td>\n",
       "      <td>NaN</td>\n",
       "      <td>4.0</td>\n",
       "      <td>3.0</td>\n",
       "      <td>NaN</td>\n",
       "      <td>NaN</td>\n",
       "      <td>NaN</td>\n",
       "      <td>NaN</td>\n",
       "      <td>NaN</td>\n",
       "      <td>NaN</td>\n",
       "      <td>NaN</td>\n",
       "      <td>NaN</td>\n",
       "      <td>NaN</td>\n",
       "      <td>0.0</td>\n",
       "      <td>4591</td>\n",
       "    </tr>\n",
       "    <tr>\n",
       "      <th>23284</th>\n",
       "      <td>23284</td>\n",
       "      <td>0.0</td>\n",
       "      <td>10950000.0</td>\n",
       "      <td>57.7</td>\n",
       "      <td>8.4</td>\n",
       "      <td>NaN</td>\n",
       "      <td>4.0</td>\n",
       "      <td>2.0</td>\n",
       "      <td>NaN</td>\n",
       "      <td>NaN</td>\n",
       "      <td>NaN</td>\n",
       "      <td>NaN</td>\n",
       "      <td>NaN</td>\n",
       "      <td>NaN</td>\n",
       "      <td>NaN</td>\n",
       "      <td>NaN</td>\n",
       "      <td>NaN</td>\n",
       "      <td>0.0</td>\n",
       "      <td>6553</td>\n",
       "    </tr>\n",
       "  </tbody>\n",
       "</table>\n",
       "<p>23285 rows × 19 columns</p>\n",
       "</div>"
      ],
      "text/plain": [
       "          id  seller       price  area_total  area_kitchen  area_living  \\\n",
       "0          0     3.0   7139520.0        59.2          12.5         31.0   \n",
       "1          1     NaN  10500000.0        88.0          14.2         48.0   \n",
       "2          2     3.0   9019650.0        78.5          22.5         40.8   \n",
       "3          3     NaN  10500000.0        88.0          14.0         48.0   \n",
       "4          4     NaN  13900000.0        78.0          17.0         35.0   \n",
       "...      ...     ...         ...         ...           ...          ...   \n",
       "23280  23280     NaN  13300000.0        65.0          16.0         32.0   \n",
       "23281  23281     3.0  15854300.0        56.9           9.6         36.5   \n",
       "23282  23282     NaN  19800000.0        73.4          23.0         29.3   \n",
       "23283  23283     0.0  29999000.0       100.8          20.0          NaN   \n",
       "23284  23284     0.0  10950000.0        57.7           8.4          NaN   \n",
       "\n",
       "       floor  rooms  layout  ceiling  bathrooms_shared  bathrooms_private  \\\n",
       "0        2.0    2.0     NaN     2.65               0.0                2.0   \n",
       "1       18.0    3.0     1.0      NaN               2.0                0.0   \n",
       "2       12.0    3.0     NaN     2.65               0.0                2.0   \n",
       "3       18.0    3.0     NaN      NaN               0.0                2.0   \n",
       "4        7.0    2.0     1.0     2.90               1.0                0.0   \n",
       "...      ...    ...     ...      ...               ...                ...   \n",
       "23280    3.0    2.0     NaN     3.00               0.0                1.0   \n",
       "23281    6.0    2.0     NaN      NaN               NaN                NaN   \n",
       "23282   16.0    2.0     NaN      NaN               NaN                NaN   \n",
       "23283    4.0    3.0     NaN      NaN               NaN                NaN   \n",
       "23284    4.0    2.0     NaN      NaN               NaN                NaN   \n",
       "\n",
       "       windows_court  windows_street  balconies  loggias  condition  phones  \\\n",
       "0                0.0             1.0        NaN      NaN        NaN     1.0   \n",
       "1                1.0             1.0        1.0      0.0        3.0     1.0   \n",
       "2                1.0             1.0        NaN      NaN        NaN     1.0   \n",
       "3                1.0             1.0        0.0      1.0        2.0     1.0   \n",
       "4                1.0             1.0        0.0      1.0        3.0     1.0   \n",
       "...              ...             ...        ...      ...        ...     ...   \n",
       "23280            1.0             0.0        0.0      1.0        3.0     1.0   \n",
       "23281            NaN             NaN        NaN      NaN        NaN     1.0   \n",
       "23282            NaN             NaN        NaN      NaN        NaN     0.0   \n",
       "23283            NaN             NaN        NaN      NaN        NaN     0.0   \n",
       "23284            NaN             NaN        NaN      NaN        NaN     0.0   \n",
       "\n",
       "       building_id  \n",
       "0             4076  \n",
       "1             1893  \n",
       "2             5176  \n",
       "3             1893  \n",
       "4             6604  \n",
       "...            ...  \n",
       "23280         3139  \n",
       "23281         7624  \n",
       "23282         8021  \n",
       "23283         4591  \n",
       "23284         6553  \n",
       "\n",
       "[23285 rows x 19 columns]"
      ]
     },
     "execution_count": 5,
     "metadata": {},
     "output_type": "execute_result"
    }
   ],
   "source": [
    "model = Model()\n",
    "test_data = preprocessor.apartments\n",
    "test_data"
   ]
  },
  {
   "cell_type": "markdown",
   "metadata": {},
   "source": [
    "Below we can see the apartment id and its price prediction based on this linear prediction. "
   ]
  },
  {
   "cell_type": "code",
   "execution_count": 6,
   "metadata": {},
   "outputs": [
    {
     "data": {
      "text/html": [
       "<div>\n",
       "<style scoped>\n",
       "    .dataframe tbody tr th:only-of-type {\n",
       "        vertical-align: middle;\n",
       "    }\n",
       "\n",
       "    .dataframe tbody tr th {\n",
       "        vertical-align: top;\n",
       "    }\n",
       "\n",
       "    .dataframe thead th {\n",
       "        text-align: right;\n",
       "    }\n",
       "</style>\n",
       "<table border=\"1\" class=\"dataframe\">\n",
       "  <thead>\n",
       "    <tr style=\"text-align: right;\">\n",
       "      <th></th>\n",
       "      <th>id</th>\n",
       "      <th>price</th>\n",
       "    </tr>\n",
       "  </thead>\n",
       "  <tbody>\n",
       "    <tr>\n",
       "      <th>0</th>\n",
       "      <td>0</td>\n",
       "      <td>1.240587e+07</td>\n",
       "    </tr>\n",
       "    <tr>\n",
       "      <th>1</th>\n",
       "      <td>1</td>\n",
       "      <td>3.346211e+07</td>\n",
       "    </tr>\n",
       "    <tr>\n",
       "      <th>2</th>\n",
       "      <td>2</td>\n",
       "      <td>2.651648e+07</td>\n",
       "    </tr>\n",
       "    <tr>\n",
       "      <th>3</th>\n",
       "      <td>3</td>\n",
       "      <td>3.346211e+07</td>\n",
       "    </tr>\n",
       "    <tr>\n",
       "      <th>4</th>\n",
       "      <td>4</td>\n",
       "      <td>2.615092e+07</td>\n",
       "    </tr>\n",
       "    <tr>\n",
       "      <th>...</th>\n",
       "      <td>...</td>\n",
       "      <td>...</td>\n",
       "    </tr>\n",
       "    <tr>\n",
       "      <th>23280</th>\n",
       "      <td>23280</td>\n",
       "      <td>1.664636e+07</td>\n",
       "    </tr>\n",
       "    <tr>\n",
       "      <th>23281</th>\n",
       "      <td>23281</td>\n",
       "      <td>1.072429e+07</td>\n",
       "    </tr>\n",
       "    <tr>\n",
       "      <th>23282</th>\n",
       "      <td>23282</td>\n",
       "      <td>2.278777e+07</td>\n",
       "    </tr>\n",
       "    <tr>\n",
       "      <th>23283</th>\n",
       "      <td>23283</td>\n",
       "      <td>4.282044e+07</td>\n",
       "    </tr>\n",
       "    <tr>\n",
       "      <th>23284</th>\n",
       "      <td>23284</td>\n",
       "      <td>1.130919e+07</td>\n",
       "    </tr>\n",
       "  </tbody>\n",
       "</table>\n",
       "<p>23285 rows × 2 columns</p>\n",
       "</div>"
      ],
      "text/plain": [
       "          id         price\n",
       "0          0  1.240587e+07\n",
       "1          1  3.346211e+07\n",
       "2          2  2.651648e+07\n",
       "3          3  3.346211e+07\n",
       "4          4  2.615092e+07\n",
       "...      ...           ...\n",
       "23280  23280  1.664636e+07\n",
       "23281  23281  1.072429e+07\n",
       "23282  23282  2.278777e+07\n",
       "23283  23283  4.282044e+07\n",
       "23284  23284  1.130919e+07\n",
       "\n",
       "[23285 rows x 2 columns]"
      ]
     },
     "execution_count": 6,
     "metadata": {},
     "output_type": "execute_result"
    }
   ],
   "source": [
    "pred = model.predict_linearly(m, b, test_data)\n",
    "pred"
   ]
  },
  {
   "cell_type": "markdown",
   "metadata": {},
   "source": [
    "Surprise, surprise - it is __really__ bad! <br>\n",
    "It has a RMSLE of `7.97`, which is __very__ high for this dataset - meaning that this way of predicting prices will not perform well enough!\n",
    "To be fair - this is not machine learning, as all we do it feeding the linear function an input `total area`, and it will spit out some number `predicted price`. \n",
    "This is just pure math with no manipulation or anything - and will rarely be satisfactory when we have data of this magnitude of complexity."
   ]
  },
  {
   "cell_type": "code",
   "execution_count": 7,
   "metadata": {},
   "outputs": [
    {
     "data": {
      "text/plain": [
       "7.973258201599909"
      ]
     },
     "execution_count": 7,
     "metadata": {},
     "output_type": "execute_result"
    }
   ],
   "source": [
    "error = model.root_mean_squared_log_error(test_data[\"price\"], pred[\"price\"])\n",
    "error"
   ]
  },
  {
   "cell_type": "markdown",
   "metadata": {},
   "source": [
    "## [2] How did we manipulate and feature engineer the data to optimize our algorithm?\n",
    "\n",
    "TODO Explain this (we have littelary not done anything). We all understood that we need to take the other features into consideration as well. We will discuss how we manipulated and feature engineered the data in the next section."
   ]
  },
  {
   "cell_type": "code",
   "execution_count": 8,
   "metadata": {},
   "outputs": [
    {
     "name": "stdout",
     "output_type": "stream",
     "text": [
      "Larger: -29.91 (85.63) MSE\n"
     ]
    }
   ],
   "source": [
    "labels = preprocessor.apartments[\"price\"]\n",
    "merged = preprocessor.merged\n",
    "merged_test = preprocessor.merged_test\n",
    "training_data = preprocessor.preprocess(merged, impute = True)\n",
    "test_data = preprocessor.preprocess(merged_test, impute = True)\n",
    "\n",
    "fitted = model.fit(training_data, labels)"
   ]
  },
  {
   "cell_type": "code",
   "execution_count": 12,
   "metadata": {},
   "outputs": [
    {
     "data": {
      "text/plain": [
       "array([12779099. , 11312869. ,  7921221.5, ..., 10374338. ,  9690583. ,\n",
       "       11332764. ], dtype=float32)"
      ]
     },
     "execution_count": 12,
     "metadata": {},
     "output_type": "execute_result"
    }
   ],
   "source": [
    "model = fitted[1][1]\n",
    "model.fit(training_data, labels)\n",
    "pred = model.predict(test_data)\n",
    "pred"
   ]
  },
  {
   "cell_type": "code",
   "execution_count": null,
   "metadata": {},
   "outputs": [],
   "source": [
    "model = Model()\n",
    "model.save_predictions(pred)"
   ]
  },
  {
   "cell_type": "code",
   "execution_count": 10,
   "metadata": {},
   "outputs": [
    {
     "name": "stdout",
     "output_type": "stream",
     "text": [
      "Model score: <bound method KerasRegressor.score of <tensorflow.python.keras.wrappers.scikit_learn.KerasRegressor object at 0x000001E094F96B20>>\n"
     ]
    },
    {
     "data": {
      "text/plain": [
       "<tensorflow.python.keras.wrappers.scikit_learn.KerasRegressor at 0x1e094f96b20>"
      ]
     },
     "execution_count": 10,
     "metadata": {},
     "output_type": "execute_result"
    }
   ],
   "source": [
    "print(\"Model score: %s\" % model.score)\n",
    "#print(\"Root mean squared log error based on the test set: %s\" % model.root_mean_squared_log_error(labels, pred))\n",
    "model"
   ]
  },
  {
   "cell_type": "markdown",
   "metadata": {},
   "source": [
    "### Buildings\n",
    "\n",
    "TODO"
   ]
  },
  {
   "cell_type": "code",
   "execution_count": null,
   "metadata": {},
   "outputs": [],
   "source": []
  }
 ],
 "metadata": {
  "kernelspec": {
   "display_name": "Python 3",
   "language": "python",
   "name": "python3"
  },
  "language_info": {
   "codemirror_mode": {
    "name": "ipython",
    "version": 3
   },
   "file_extension": ".py",
   "mimetype": "text/x-python",
   "name": "python",
   "nbconvert_exporter": "python",
   "pygments_lexer": "ipython3",
   "version": "3.8.8"
  }
 },
 "nbformat": 4,
 "nbformat_minor": 4
}
